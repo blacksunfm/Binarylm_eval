{
 "cells": [
  {
   "cell_type": "markdown",
   "metadata": {
    "id": "Qw83KAePAhaS"
   },
   "source": [
    "# Releasing LM-Evaluation-Harness v0.4.0"
   ]
  },
  {
   "cell_type": "markdown",
   "metadata": {
    "id": "Z7k2vq1iAdqr"
   },
   "source": [
    "With the vast amount of work done in the field today, it helps to have a tool that people can use easily to share their results and use to check others to ensure reported numbers are valid. The LM Evaluation Harness is one such tool the community has used extensively. We want to continue to support the community and with that in mind, we’re excited to announce a major update on the LM Evaluation Harness to further our goal for open and accessible AI research."
   ]
  },
  {
   "cell_type": "markdown",
   "metadata": {
    "id": "0gDoM0AJAvEc"
   },
   "source": [
    "Our refactor stems from our desires to make the following believed best practices easier to carry out.  \n",
    "\n",
    "1.   Never copy results from other papers\n",
    "2.   Always share your exact prompts\n",
    "3.   Always provide model outputs\n",
    "4.   Qualitatively review a small batch of outputs before running evaluation jobs at scale\n",
    "\n",
    "We also wanted to make the library a better experience to use and to contribute or design evaluations within. New features in the new release that serve this purpose include:\n",
    "\n",
    "1. Faster Evaluation Runtimes (accelerated data-parallel inference with HF Transformers + Accelerate, and commonly used or faster inference libraries such as vLLM and Llama-CPP)\n",
    "2. Easier addition and sharing of new tasks (YAML-based task config formats, allowing single-file sharing of custom tasks)\n",
    "3. More configurability, for more advanced workflows and easier operation with modifying prompts\n",
    "4. Better logging of data at runtime and post-hoc"
   ]
  },
  {
   "cell_type": "markdown",
   "metadata": {
    "id": "nnwsOpjda_YW"
   },
   "source": [
    "In this notebook we will be going through a short tutorial on how things work."
   ]
  },
  {
   "cell_type": "markdown",
   "metadata": {
    "id": "zAov81vTbL2K"
   },
   "source": [
    "## Install LM-Eval"
   ]
  },
  {
   "cell_type": "code",
   "execution_count": 1,
   "metadata": {
    "colab": {
     "base_uri": "https://localhost:8080/"
    },
    "id": "8hiosGzq_qZg",
    "outputId": "6ab73e5e-1f54-417e-a388-07e0d870b132"
   },
   "outputs": [
    {
     "name": "stdout",
     "output_type": "stream",
     "text": [
      "^C\n"
     ]
    },
    {
     "name": "stderr",
     "output_type": "stream",
     "text": [
      "  Running command git clone --filter=blob:none --quiet https://github.com/EleutherAI/lm-evaluation-harness.git 'C:\\Users\\blacksun\\AppData\\Local\\Temp\\pip-req-build-7v95un34'\n"
     ]
    },
    {
     "name": "stdout",
     "output_type": "stream",
     "text": [
      "Looking in indexes: https://pypi.mirrors.ustc.edu.cn/simple/\n",
      "Collecting git+https://github.com/EleutherAI/lm-evaluation-harness.git\n",
      "  Cloning https://github.com/EleutherAI/lm-evaluation-harness.git to c:\\users\\blacksun\\appdata\\local\\temp\\pip-req-build-7v95un34\n",
      "  Resolved https://github.com/EleutherAI/lm-evaluation-harness.git to commit ade1cc4e481c65f8be44b8f4c6fc2c4942e6bd33\n",
      "  Installing build dependencies: started\n",
      "  Installing build dependencies: finished with status 'done'\n",
      "  Getting requirements to build wheel: started\n",
      "  Getting requirements to build wheel: finished with status 'done'\n",
      "  Preparing metadata (pyproject.toml): started\n",
      "  Preparing metadata (pyproject.toml): finished with status 'done'\n",
      "Requirement already satisfied: accelerate>=0.26.0 in d:\\programdata\\miniconda3\\envs\\leaderboard2\\lib\\site-packages (from lm_eval==0.4.5) (1.0.1)\n",
      "Requirement already satisfied: evaluate in d:\\programdata\\miniconda3\\envs\\leaderboard2\\lib\\site-packages (from lm_eval==0.4.5) (0.4.3)\n",
      "Requirement already satisfied: datasets>=2.16.0 in d:\\programdata\\miniconda3\\envs\\leaderboard2\\lib\\site-packages (from lm_eval==0.4.5) (2.19.1)\n",
      "Requirement already satisfied: jsonlines in d:\\programdata\\miniconda3\\envs\\leaderboard2\\lib\\site-packages (from lm_eval==0.4.5) (4.0.0)\n",
      "Requirement already satisfied: numexpr in d:\\programdata\\miniconda3\\envs\\leaderboard2\\lib\\site-packages (from lm_eval==0.4.5) (2.10.1)\n",
      "Requirement already satisfied: peft>=0.2.0 in d:\\programdata\\miniconda3\\envs\\leaderboard2\\lib\\site-packages (from lm_eval==0.4.5) (0.13.2)\n",
      "Requirement already satisfied: pybind11>=2.6.2 in d:\\programdata\\miniconda3\\envs\\leaderboard2\\lib\\site-packages (from lm_eval==0.4.5) (2.13.6)\n",
      "Requirement already satisfied: pytablewriter in d:\\programdata\\miniconda3\\envs\\leaderboard2\\lib\\site-packages (from lm_eval==0.4.5) (1.2.0)\n",
      "Requirement already satisfied: rouge-score>=0.0.4 in d:\\programdata\\miniconda3\\envs\\leaderboard2\\lib\\site-packages (from lm_eval==0.4.5) (0.1.2)\n",
      "Requirement already satisfied: sacrebleu>=1.5.0 in d:\\programdata\\miniconda3\\envs\\leaderboard2\\lib\\site-packages (from lm_eval==0.4.5) (2.4.3)\n",
      "Requirement already satisfied: scikit-learn>=0.24.1 in d:\\programdata\\miniconda3\\envs\\leaderboard2\\lib\\site-packages (from lm_eval==0.4.5) (1.5.2)\n",
      "Requirement already satisfied: sqlitedict in d:\\programdata\\miniconda3\\envs\\leaderboard2\\lib\\site-packages (from lm_eval==0.4.5) (2.1.0)\n",
      "Requirement already satisfied: torch>=1.8 in d:\\programdata\\miniconda3\\envs\\leaderboard2\\lib\\site-packages (from lm_eval==0.4.5) (2.4.1)\n",
      "Requirement already satisfied: tqdm-multiprocess in d:\\programdata\\miniconda3\\envs\\leaderboard2\\lib\\site-packages (from lm_eval==0.4.5) (0.0.11)\n",
      "Requirement already satisfied: transformers>=4.1 in d:\\programdata\\miniconda3\\envs\\leaderboard2\\lib\\site-packages (from lm_eval==0.4.5) (4.46.0)\n",
      "Requirement already satisfied: zstandard in d:\\programdata\\miniconda3\\envs\\leaderboard2\\lib\\site-packages (from lm_eval==0.4.5) (0.23.0)\n",
      "Requirement already satisfied: dill in d:\\programdata\\miniconda3\\envs\\leaderboard2\\lib\\site-packages (from lm_eval==0.4.5) (0.3.8)\n",
      "Requirement already satisfied: word2number in d:\\programdata\\miniconda3\\envs\\leaderboard2\\lib\\site-packages (from lm_eval==0.4.5) (1.1)\n",
      "Requirement already satisfied: more-itertools in d:\\programdata\\miniconda3\\envs\\leaderboard2\\lib\\site-packages (from lm_eval==0.4.5) (10.5.0)\n",
      "Requirement already satisfied: numpy<3.0.0,>=1.17 in d:\\programdata\\miniconda3\\envs\\leaderboard2\\lib\\site-packages (from accelerate>=0.26.0->lm_eval==0.4.5) (1.26.4)\n",
      "Requirement already satisfied: packaging>=20.0 in d:\\programdata\\miniconda3\\envs\\leaderboard2\\lib\\site-packages (from accelerate>=0.26.0->lm_eval==0.4.5) (24.1)\n",
      "Requirement already satisfied: psutil in d:\\programdata\\miniconda3\\envs\\leaderboard2\\lib\\site-packages (from accelerate>=0.26.0->lm_eval==0.4.5) (6.1.0)\n",
      "Requirement already satisfied: pyyaml in d:\\programdata\\miniconda3\\envs\\leaderboard2\\lib\\site-packages (from accelerate>=0.26.0->lm_eval==0.4.5) (6.0.2)\n",
      "Requirement already satisfied: huggingface-hub>=0.21.0 in d:\\programdata\\miniconda3\\envs\\leaderboard2\\lib\\site-packages (from accelerate>=0.26.0->lm_eval==0.4.5) (0.26.2)\n",
      "Requirement already satisfied: safetensors>=0.4.3 in d:\\programdata\\miniconda3\\envs\\leaderboard2\\lib\\site-packages (from accelerate>=0.26.0->lm_eval==0.4.5) (0.4.5)\n",
      "Requirement already satisfied: filelock in d:\\programdata\\miniconda3\\envs\\leaderboard2\\lib\\site-packages (from datasets>=2.16.0->lm_eval==0.4.5) (3.16.1)\n",
      "Requirement already satisfied: pyarrow>=12.0.0 in d:\\programdata\\miniconda3\\envs\\leaderboard2\\lib\\site-packages (from datasets>=2.16.0->lm_eval==0.4.5) (18.0.0)\n",
      "Requirement already satisfied: pyarrow-hotfix in d:\\programdata\\miniconda3\\envs\\leaderboard2\\lib\\site-packages (from datasets>=2.16.0->lm_eval==0.4.5) (0.6)\n",
      "Requirement already satisfied: pandas in d:\\programdata\\miniconda3\\envs\\leaderboard2\\lib\\site-packages (from datasets>=2.16.0->lm_eval==0.4.5) (2.2.3)\n",
      "Requirement already satisfied: requests>=2.19.0 in d:\\programdata\\miniconda3\\envs\\leaderboard2\\lib\\site-packages (from datasets>=2.16.0->lm_eval==0.4.5) (2.32.3)\n",
      "Requirement already satisfied: tqdm>=4.62.1 in d:\\programdata\\miniconda3\\envs\\leaderboard2\\lib\\site-packages (from datasets>=2.16.0->lm_eval==0.4.5) (4.65.0)\n",
      "Requirement already satisfied: xxhash in d:\\programdata\\miniconda3\\envs\\leaderboard2\\lib\\site-packages (from datasets>=2.16.0->lm_eval==0.4.5) (3.5.0)\n",
      "Requirement already satisfied: multiprocess in d:\\programdata\\miniconda3\\envs\\leaderboard2\\lib\\site-packages (from datasets>=2.16.0->lm_eval==0.4.5) (0.70.16)\n",
      "Requirement already satisfied: fsspec<=2024.3.1,>=2023.1.0 in d:\\programdata\\miniconda3\\envs\\leaderboard2\\lib\\site-packages (from fsspec[http]<=2024.3.1,>=2023.1.0->datasets>=2.16.0->lm_eval==0.4.5) (2024.3.1)\n",
      "Requirement already satisfied: aiohttp in d:\\programdata\\miniconda3\\envs\\leaderboard2\\lib\\site-packages (from datasets>=2.16.0->lm_eval==0.4.5) (3.10.10)\n",
      "Requirement already satisfied: absl-py in d:\\programdata\\miniconda3\\envs\\leaderboard2\\lib\\site-packages (from rouge-score>=0.0.4->lm_eval==0.4.5) (2.1.0)\n",
      "Requirement already satisfied: nltk in d:\\programdata\\miniconda3\\envs\\leaderboard2\\lib\\site-packages (from rouge-score>=0.0.4->lm_eval==0.4.5) (3.9.1)\n",
      "Requirement already satisfied: six>=1.14.0 in d:\\programdata\\miniconda3\\envs\\leaderboard2\\lib\\site-packages (from rouge-score>=0.0.4->lm_eval==0.4.5) (1.16.0)\n",
      "Requirement already satisfied: portalocker in d:\\programdata\\miniconda3\\envs\\leaderboard2\\lib\\site-packages (from sacrebleu>=1.5.0->lm_eval==0.4.5) (2.10.1)\n",
      "Requirement already satisfied: regex in d:\\programdata\\miniconda3\\envs\\leaderboard2\\lib\\site-packages (from sacrebleu>=1.5.0->lm_eval==0.4.5) (2024.9.11)\n",
      "Requirement already satisfied: tabulate>=0.8.9 in d:\\programdata\\miniconda3\\envs\\leaderboard2\\lib\\site-packages (from sacrebleu>=1.5.0->lm_eval==0.4.5) (0.9.0)\n",
      "Requirement already satisfied: colorama in d:\\programdata\\miniconda3\\envs\\leaderboard2\\lib\\site-packages (from sacrebleu>=1.5.0->lm_eval==0.4.5) (0.4.6)\n",
      "Requirement already satisfied: lxml in d:\\programdata\\miniconda3\\envs\\leaderboard2\\lib\\site-packages (from sacrebleu>=1.5.0->lm_eval==0.4.5) (4.9.3)\n",
      "Requirement already satisfied: scipy>=1.6.0 in d:\\programdata\\miniconda3\\envs\\leaderboard2\\lib\\site-packages (from scikit-learn>=0.24.1->lm_eval==0.4.5) (1.14.1)\n",
      "Requirement already satisfied: joblib>=1.2.0 in d:\\programdata\\miniconda3\\envs\\leaderboard2\\lib\\site-packages (from scikit-learn>=0.24.1->lm_eval==0.4.5) (1.4.2)\n",
      "Requirement already satisfied: threadpoolctl>=3.1.0 in d:\\programdata\\miniconda3\\envs\\leaderboard2\\lib\\site-packages (from scikit-learn>=0.24.1->lm_eval==0.4.5) (3.5.0)\n",
      "Requirement already satisfied: typing-extensions>=4.8.0 in d:\\programdata\\miniconda3\\envs\\leaderboard2\\lib\\site-packages (from torch>=1.8->lm_eval==0.4.5) (4.12.2)\n",
      "Requirement already satisfied: sympy in d:\\programdata\\miniconda3\\envs\\leaderboard2\\lib\\site-packages (from torch>=1.8->lm_eval==0.4.5) (1.13.3)\n",
      "Requirement already satisfied: networkx in d:\\programdata\\miniconda3\\envs\\leaderboard2\\lib\\site-packages (from torch>=1.8->lm_eval==0.4.5) (3.4.2)\n",
      "Requirement already satisfied: jinja2 in d:\\programdata\\miniconda3\\envs\\leaderboard2\\lib\\site-packages (from torch>=1.8->lm_eval==0.4.5) (3.1.4)\n",
      "Requirement already satisfied: tokenizers<0.21,>=0.20 in d:\\programdata\\miniconda3\\envs\\leaderboard2\\lib\\site-packages (from transformers>=4.1->lm_eval==0.4.5) (0.20.1)\n",
      "Requirement already satisfied: attrs>=19.2.0 in d:\\programdata\\miniconda3\\envs\\leaderboard2\\lib\\site-packages (from jsonlines->lm_eval==0.4.5) (24.2.0)\n",
      "Requirement already satisfied: setuptools>=38.3.0 in d:\\programdata\\miniconda3\\envs\\leaderboard2\\lib\\site-packages (from pytablewriter->lm_eval==0.4.5) (75.1.0)\n",
      "Requirement already satisfied: DataProperty<2,>=1.0.1 in d:\\programdata\\miniconda3\\envs\\leaderboard2\\lib\\site-packages (from pytablewriter->lm_eval==0.4.5) (1.0.1)\n",
      "Requirement already satisfied: mbstrdecoder<2,>=1.0.0 in d:\\programdata\\miniconda3\\envs\\leaderboard2\\lib\\site-packages (from pytablewriter->lm_eval==0.4.5) (1.1.3)\n",
      "Requirement already satisfied: pathvalidate<4,>=2.3.0 in d:\\programdata\\miniconda3\\envs\\leaderboard2\\lib\\site-packages (from pytablewriter->lm_eval==0.4.5) (3.2.1)\n",
      "Requirement already satisfied: tabledata<2,>=1.3.1 in d:\\programdata\\miniconda3\\envs\\leaderboard2\\lib\\site-packages (from pytablewriter->lm_eval==0.4.5) (1.3.3)\n",
      "Requirement already satisfied: tcolorpy<1,>=0.0.5 in d:\\programdata\\miniconda3\\envs\\leaderboard2\\lib\\site-packages (from pytablewriter->lm_eval==0.4.5) (0.1.6)\n",
      "Requirement already satisfied: typepy<2,>=1.3.2 in d:\\programdata\\miniconda3\\envs\\leaderboard2\\lib\\site-packages (from typepy[datetime]<2,>=1.3.2->pytablewriter->lm_eval==0.4.5) (1.3.2)\n",
      "Requirement already satisfied: aiohappyeyeballs>=2.3.0 in d:\\programdata\\miniconda3\\envs\\leaderboard2\\lib\\site-packages (from aiohttp->datasets>=2.16.0->lm_eval==0.4.5) (2.4.3)\n",
      "Requirement already satisfied: aiosignal>=1.1.2 in d:\\programdata\\miniconda3\\envs\\leaderboard2\\lib\\site-packages (from aiohttp->datasets>=2.16.0->lm_eval==0.4.5) (1.3.1)\n",
      "Requirement already satisfied: frozenlist>=1.1.1 in d:\\programdata\\miniconda3\\envs\\leaderboard2\\lib\\site-packages (from aiohttp->datasets>=2.16.0->lm_eval==0.4.5) (1.5.0)\n",
      "Requirement already satisfied: multidict<7.0,>=4.5 in d:\\programdata\\miniconda3\\envs\\leaderboard2\\lib\\site-packages (from aiohttp->datasets>=2.16.0->lm_eval==0.4.5) (6.1.0)\n",
      "Requirement already satisfied: yarl<2.0,>=1.12.0 in d:\\programdata\\miniconda3\\envs\\leaderboard2\\lib\\site-packages (from aiohttp->datasets>=2.16.0->lm_eval==0.4.5) (1.17.0)\n",
      "Requirement already satisfied: async-timeout<5.0,>=4.0 in d:\\programdata\\miniconda3\\envs\\leaderboard2\\lib\\site-packages (from aiohttp->datasets>=2.16.0->lm_eval==0.4.5) (4.0.3)\n",
      "Requirement already satisfied: chardet<6,>=3.0.4 in d:\\programdata\\miniconda3\\envs\\leaderboard2\\lib\\site-packages (from mbstrdecoder<2,>=1.0.0->pytablewriter->lm_eval==0.4.5) (5.2.0)\n",
      "Requirement already satisfied: charset-normalizer<4,>=2 in d:\\programdata\\miniconda3\\envs\\leaderboard2\\lib\\site-packages (from requests>=2.19.0->datasets>=2.16.0->lm_eval==0.4.5) (3.4.0)\n",
      "Requirement already satisfied: idna<4,>=2.5 in d:\\programdata\\miniconda3\\envs\\leaderboard2\\lib\\site-packages (from requests>=2.19.0->datasets>=2.16.0->lm_eval==0.4.5) (3.10)\n",
      "Requirement already satisfied: urllib3<3,>=1.21.1 in d:\\programdata\\miniconda3\\envs\\leaderboard2\\lib\\site-packages (from requests>=2.19.0->datasets>=2.16.0->lm_eval==0.4.5) (2.2.3)\n",
      "Requirement already satisfied: certifi>=2017.4.17 in d:\\programdata\\miniconda3\\envs\\leaderboard2\\lib\\site-packages (from requests>=2.19.0->datasets>=2.16.0->lm_eval==0.4.5) (2024.8.30)\n",
      "Requirement already satisfied: python-dateutil<3.0.0,>=2.8.0 in d:\\programdata\\miniconda3\\envs\\leaderboard2\\lib\\site-packages (from typepy[datetime]<2,>=1.3.2->pytablewriter->lm_eval==0.4.5) (2.8.2)\n",
      "Requirement already satisfied: pytz>=2018.9 in d:\\programdata\\miniconda3\\envs\\leaderboard2\\lib\\site-packages (from typepy[datetime]<2,>=1.3.2->pytablewriter->lm_eval==0.4.5) (2024.2)\n",
      "Requirement already satisfied: MarkupSafe>=2.0 in d:\\programdata\\miniconda3\\envs\\leaderboard2\\lib\\site-packages (from jinja2->torch>=1.8->lm_eval==0.4.5) (2.1.5)\n",
      "Requirement already satisfied: click in d:\\programdata\\miniconda3\\envs\\leaderboard2\\lib\\site-packages (from nltk->rouge-score>=0.0.4->lm_eval==0.4.5) (8.1.3)\n",
      "Requirement already satisfied: tzdata>=2022.7 in d:\\programdata\\miniconda3\\envs\\leaderboard2\\lib\\site-packages (from pandas->datasets>=2.16.0->lm_eval==0.4.5) (2024.2)\n",
      "Requirement already satisfied: pywin32>=226 in d:\\programdata\\miniconda3\\envs\\leaderboard2\\lib\\site-packages (from portalocker->sacrebleu>=1.5.0->lm_eval==0.4.5) (307)\n",
      "Requirement already satisfied: mpmath<1.4,>=1.1.0 in d:\\programdata\\miniconda3\\envs\\leaderboard2\\lib\\site-packages (from sympy->torch>=1.8->lm_eval==0.4.5) (1.3.0)\n",
      "Requirement already satisfied: propcache>=0.2.0 in d:\\programdata\\miniconda3\\envs\\leaderboard2\\lib\\site-packages (from yarl<2.0,>=1.12.0->aiohttp->datasets>=2.16.0->lm_eval==0.4.5) (0.2.0)\n",
      "Building wheels for collected packages: lm_eval\n",
      "  Building wheel for lm_eval (pyproject.toml): started\n",
      "  Building wheel for lm_eval (pyproject.toml): finished with status 'done'\n",
      "  Created wheel for lm_eval: filename=lm_eval-0.4.5-py3-none-any.whl size=2410938 sha256=f7f8b139a5e0f6310ef5dbcbfeba67157cbade569f3fb94c2e7ccda488d77793\n",
      "  Stored in directory: C:\\Users\\blacksun\\AppData\\Local\\Temp\\pip-ephem-wheel-cache-jfyvgbf1\\wheels\\ff\\d5\\f4\\949f2b285369fc332f8dbba43f220ebd88387ee2f2c0c1174f\n",
      "Successfully built lm_eval\n",
      "Installing collected packages: lm_eval\n",
      "  Attempting uninstall: lm_eval\n",
      "    Found existing installation: lm_eval 0.4.5\n",
      "    Uninstalling lm_eval-0.4.5:\n",
      "      Successfully uninstalled lm_eval-0.4.5\n",
      "Successfully installed lm_eval-0.4.5\n"
     ]
    }
   ],
   "source": [
    "# Install LM-Eval\n",
    "!pip install git+https://github.com/EleutherAI/lm-evaluation-harness.git"
   ]
  },
  {
   "cell_type": "code",
   "execution_count": null,
   "metadata": {
    "colab": {
     "base_uri": "https://localhost:8080/",
     "height": 0,
     "referenced_widgets": [
      "a1d3a8aa016544a78e8821c8f6199e06",
      "f61ed33fad754146bdd2ac9db1ba1c48",
      "bfa0af6aeff344c6845e1080a878e92e",
      "fd1ad9e0367d4004aae853b91c3a7617",
      "6b2d90209ec14230b3d58a74ac9b83bf",
      "a73f357065d34d7baf0453ae4a8d75e2",
      "46f521b73fd943c081c648fd873ebc0a",
      "7c5689bc13684db8a22681f41863dddd",
      "48763b6233374554ae76035c0483066f",
      "4986a21eb560448fa79f4b25cde48951",
      "aed3acd2f2d74003b44079c333a0698e"
     ]
    },
    "id": "uyO5MaKkZyah",
    "outputId": "d46e8096-5086-4e49-967e-ea33d4a2a335"
   },
   "outputs": [],
   "source": []
  },
  {
   "cell_type": "markdown",
   "metadata": {
    "id": "8rfUeX6n_wkK"
   },
   "source": [
    "## Create new evaluation tasks with config-based tasks\n",
    "\n",
    "Even within the same task, many works have reported numbers based on different choices of evaluation. Some report on the test sets, validation sets, or even subset of the training sets. Others have specialized prompts and verbalizers. We introduce YAMLs to allow users to easily make different variations. By leveraging the YAML configs to configure evaluations, the refactored LM-Eval takes the methods of the `Task` object and makes them configurable by setting the appropriate attributes in the config file. There, users can set the tasks they want by setting the name of the HF dataset (local tasks are also possible), the dataset splits used, and much more. Key configurations relating to prompting, such as `doc_to_text`, previously implemented as a method of the same name, are now configurable with jinja2 to allow high-level scripting to transform a HF dataset to text string as input to the model.\n",
    "即使在相同的任务中，许多研究工作也会根据不同的评估选择报告数据。例如，有些使用测试集、验证集，甚至训练集的子集进行评估；还有的使用特定的提示词和词汇表。为了解决这个问题，我们引入了 YAML 配置文件，让用户能够轻松实现不同的变体。通过利用 YAML 配置来配置评估，重构后的 LM-Eval 将 Task 对象的方法转换为可配置的属性，用户可以在配置文件中进行设置。在这里，用户可以通过设置所需的 Hugging Face 数据集名称（也可以使用本地任务）、数据集的拆分方式等内容来自定义任务。\n",
    "与提示相关的关键配置，例如之前以同名方法实现的 doc_to_text，现在可以通过 jinja2 进行配置，以便进行高级脚本化，将 Hugging Face 数据集转换为模型输入的文本字符串。"
   ]
  },
  {
   "cell_type": "markdown",
   "metadata": {
    "id": "HYFUhhfOSJKe"
   },
   "source": [
    "A core-feature to LM-Eval is to configure tasks with YAML configs. With configs, you can fill preset fields to easily set up a task.\n",
    "Here, we write a demo YAML config for a multiple-choice evaluation of BoolQ:\n",
    "LM-Eval 的一个核心功能是使用 YAML 配置文件来配置任务。通过这些配置，你可以填充预设字段，轻松设置一个任务。\n",
    "这里我们编写了一个用于 BoolQ 多项选择评估的 YAML 配置示例："
   ]
  },
  {
   "cell_type": "code",
   "execution_count": 2,
   "metadata": {
    "id": "bg3dGROW-V39"
   },
   "outputs": [],
   "source": [
    "YAML_boolq_string = \"\"\"\n",
    "task: demo_boolq\n",
    "dataset_path: super_glue\n",
    "dataset_name: boolq\n",
    "output_type: multiple_choice\n",
    "training_split: train\n",
    "validation_split: validation\n",
    "doc_to_text: \"{{passage}}\\nQuestion: {{question}}?\\nAnswer:\"\n",
    "doc_to_target: label\n",
    "doc_to_choice: [\"no\", \"yes\"]\n",
    "should_decontaminate: true\n",
    "doc_to_decontamination_query: passage\n",
    "metric_list:\n",
    "  - metric: acc\n",
    "\"\"\"\n",
    "with open(\"boolq.yaml\", \"w\") as f:\n",
    "    f.write(YAML_boolq_string)"
   ]
  },
  {
   "cell_type": "markdown",
   "metadata": {},
   "source": [
    "And we can now run evaluation on this task, by pointing to the config file we've just created:"
   ]
  },
  {
   "cell_type": "code",
   "execution_count": null,
   "metadata": {
    "id": "LOUHK7PtQfq4"
   },
   "outputs": [],
   "source": [
    "lm_eval --model hf --model_args pretrained=EleutherAI/pythia-14m --include_path ./ --tasks demo_boolq --limit 10 --device cpu"
   ]
  },
  {
   "cell_type": "markdown",
   "metadata": {
    "id": "LOUHK7PtQfq4"
   },
   "source": [
    "Often, tasks are part of a larger group used to measure different capabilities. The dynamism of the field today means new dimensions of evaluation can come about which would mix and match new and older tasks alike. In LM-Eval, We can also group tasks and call that the group name to evaluate on a set of tasks easily. In this instance, let's evaluate the tag `yes_or_no_tasks` which comprise of the tasks `demo_boolq` and `demo_cola`; tasks which are multiple choice tasks with options `yes` and `no` as the name suggests.\n",
    "\n",
    "<!-- making new groups is easier than ever, allowing user to work bottom-up by makiing individual tasks and linking them to a group or Top-Down, making a new group by listing existing tasks.\n",
    "\n",
    "We also show the aggregate across samples besides only showing the aggregation between subtasks. This may come in handy when certain groups want to be aggregated as a single task. -->\n",
    "\n",
    "\n"
   ]
  },
  {
   "cell_type": "code",
   "execution_count": 5,
   "metadata": {
    "id": "fthNg3ywO-kA"
   },
   "outputs": [],
   "source": [
    "YAML_cola_string = \"\"\"\n",
    "tag: yes_or_no_tasks\n",
    "task: demo_cola\n",
    "dataset_path: glue\n",
    "dataset_name: cola\n",
    "output_type: multiple_choice\n",
    "training_split: train\n",
    "validation_split: validation\n",
    "doc_to_text: \"{{sentence}}\\nQuestion: Does this sentence make sense?\\nAnswer:\"\n",
    "doc_to_target: label\n",
    "doc_to_choice: [\"no\", \"yes\"]\n",
    "should_decontaminate: true\n",
    "doc_to_decontamination_query: sentence\n",
    "metric_list:\n",
    "  - metric: acc\n",
    "\"\"\"\n",
    "with open(\"cola.yaml\", \"w\") as f:\n",
    "    f.write(YAML_cola_string)"
   ]
  },
  {
   "cell_type": "code",
   "execution_count": 6,
   "metadata": {
    "id": "XceRKCuuDtbn"
   },
   "outputs": [
    {
     "name": "stdout",
     "output_type": "stream",
     "text": [
      "2023-11-29:11:56:33,016 INFO     [utils.py:160] NumExpr defaulting to 2 threads.\n",
      "2023-11-29 11:56:33.852995: E tensorflow/compiler/xla/stream_executor/cuda/cuda_dnn.cc:9342] Unable to register cuDNN factory: Attempting to register factory for plugin cuDNN when one has already been registered\n",
      "2023-11-29 11:56:33.853050: E tensorflow/compiler/xla/stream_executor/cuda/cuda_fft.cc:609] Unable to register cuFFT factory: Attempting to register factory for plugin cuFFT when one has already been registered\n",
      "2023-11-29 11:56:33.853087: E tensorflow/compiler/xla/stream_executor/cuda/cuda_blas.cc:1518] Unable to register cuBLAS factory: Attempting to register factory for plugin cuBLAS when one has already been registered\n",
      "2023-11-29 11:56:35.129047: W tensorflow/compiler/tf2tensorrt/utils/py_utils.cc:38] TF-TRT Warning: Could not find TensorRT\n",
      "2023-11-29:11:56:38,546 INFO     [__main__.py:132] Verbosity set to INFO\n",
      "2023-11-29:11:56:47,509 WARNING  [__main__.py:138]  --limit SHOULD ONLY BE USED FOR TESTING.REAL METRICS SHOULD NOT BE COMPUTED USING LIMIT.\n",
      "2023-11-29:11:56:47,509 INFO     [__main__.py:143] Including path: ./\n",
      "2023-11-29:11:56:47,517 INFO     [__main__.py:205] Selected Tasks: ['yes_or_no_tasks']\n",
      "2023-11-29:11:56:47,520 WARNING  [evaluator.py:93] generation_kwargs specified through cli, these settings will be used over set parameters in yaml tasks.\n",
      "2023-11-29:11:56:47,550 INFO     [huggingface.py:120] Using device 'cuda'\n",
      "2023-11-29:11:57:08,743 WARNING  [task.py:614] [Task: demo_cola] metric acc is defined, but aggregation is not. using default aggregation=mean\n",
      "2023-11-29:11:57:08,743 WARNING  [task.py:626] [Task: demo_cola] metric acc is defined, but higher_is_better is not. using default higher_is_better=True\n",
      "Downloading builder script: 100% 28.8k/28.8k [00:00<00:00, 52.7MB/s]\n",
      "Downloading metadata: 100% 28.7k/28.7k [00:00<00:00, 51.9MB/s]\n",
      "Downloading readme: 100% 27.9k/27.9k [00:00<00:00, 48.0MB/s]\n",
      "Downloading data: 100% 377k/377k [00:00<00:00, 12.0MB/s]\n",
      "Generating train split: 100% 8551/8551 [00:00<00:00, 19744.58 examples/s]\n",
      "Generating validation split: 100% 1043/1043 [00:00<00:00, 27057.01 examples/s]\n",
      "Generating test split: 100% 1063/1063 [00:00<00:00, 22705.17 examples/s]\n",
      "2023-11-29:11:57:11,698 INFO     [task.py:355] Building contexts for task on rank 0...\n",
      "2023-11-29:11:57:11,704 INFO     [evaluator.py:319] Running loglikelihood requests\n",
      "100% 20/20 [00:03<00:00,  5.15it/s]\n",
      "fatal: not a git repository (or any of the parent directories): .git\n",
      "hf (pretrained=EleutherAI/pythia-2.8b), gen_kwargs: (), limit: 10.0, num_fewshot: None, batch_size: 1\n",
      "|     Tasks     |Version|Filter|n-shot|Metric|Value|   |Stderr|\n",
      "|---------------|-------|------|-----:|------|----:|---|-----:|\n",
      "|yes_or_no_tasks|N/A    |none  |     0|acc   |  0.7|±  |0.1528|\n",
      "| - demo_cola   |Yaml   |none  |     0|acc   |  0.7|±  |0.1528|\n",
      "\n",
      "|    Groups     |Version|Filter|n-shot|Metric|Value|   |Stderr|\n",
      "|---------------|-------|------|-----:|------|----:|---|-----:|\n",
      "|yes_or_no_tasks|N/A    |none  |     0|acc   |  0.7|±  |0.1528|\n",
      "\n"
     ]
    }
   ],
   "source": [
    "# !accelerate launch --no_python\n",
    "!lm_eval \\\n",
    "    --model hf \\\n",
    "    --model_args pretrained=EleutherAI/pythia-2.8b \\\n",
    "    --include_path ./ \\\n",
    "    --tasks yes_or_no_tasks \\\n",
    "    --limit 10 \\\n",
    "    --output output/yes_or_no_tasks/ \\\n",
    "    --log_samples"
   ]
  },
  {
   "cell_type": "markdown",
   "metadata": {
    "id": "XceRKCuuDtbn"
   },
   "source": [
    "## Edit Prompt Templates Quickly\n",
    "\n",
    "The following is a yaml made to evaluate the specific subtask of `high_school_geography` from MMLU. It uses the standard prompt where the we choose the letters from the options with most likelihood as the model's prediction."
   ]
  },
  {
   "cell_type": "code",
   "execution_count": 7,
   "metadata": {
    "id": "GTFvdt9kSlBG"
   },
   "outputs": [],
   "source": [
    "YAML_mmlu_geo_string = \"\"\"\n",
    "task: demo_mmlu_high_school_geography\n",
    "dataset_path: cais/mmlu\n",
    "dataset_name: high_school_geography\n",
    "description: \"The following are multiple choice questions (with answers) about high school geography.\\n\\n\"\n",
    "test_split: test\n",
    "fewshot_split: dev\n",
    "fewshot_config:\n",
    "  sampler: first_n\n",
    "output_type: multiple_choice\n",
    "doc_to_text: \"{{question.strip()}}\\nA. {{choices[0]}}\\nB. {{choices[1]}}\\nC. {{choices[2]}}\\nD. {{choices[3]}}\\nAnswer:\"\n",
    "doc_to_choice: [\"A\", \"B\", \"C\", \"D\"]\n",
    "doc_to_target: answer\n",
    "metric_list:\n",
    "  - metric: acc\n",
    "    aggregation: mean\n",
    "    higher_is_better: true\n",
    "  - metric: acc_norm\n",
    "    aggregation: mean\n",
    "    higher_is_better: true\n",
    "\"\"\"\n",
    "with open(\"mmlu_high_school_geography.yaml\", \"w\") as f:\n",
    "    f.write(YAML_mmlu_geo_string)"
   ]
  },
  {
   "cell_type": "code",
   "execution_count": 8,
   "metadata": {
    "id": "jyKOfCsKb-xy"
   },
   "outputs": [
    {
     "name": "stdout",
     "output_type": "stream",
     "text": [
      "2023-11-29:11:57:23,598 INFO     [utils.py:160] NumExpr defaulting to 2 threads.\n",
      "2023-11-29 11:57:24.719750: E tensorflow/compiler/xla/stream_executor/cuda/cuda_dnn.cc:9342] Unable to register cuDNN factory: Attempting to register factory for plugin cuDNN when one has already been registered\n",
      "2023-11-29 11:57:24.719806: E tensorflow/compiler/xla/stream_executor/cuda/cuda_fft.cc:609] Unable to register cuFFT factory: Attempting to register factory for plugin cuFFT when one has already been registered\n",
      "2023-11-29 11:57:24.719847: E tensorflow/compiler/xla/stream_executor/cuda/cuda_blas.cc:1518] Unable to register cuBLAS factory: Attempting to register factory for plugin cuBLAS when one has already been registered\n",
      "2023-11-29 11:57:26.656125: W tensorflow/compiler/tf2tensorrt/utils/py_utils.cc:38] TF-TRT Warning: Could not find TensorRT\n",
      "2023-11-29:11:57:31,563 INFO     [__main__.py:132] Verbosity set to INFO\n",
      "2023-11-29:11:57:40,541 WARNING  [__main__.py:138]  --limit SHOULD ONLY BE USED FOR TESTING.REAL METRICS SHOULD NOT BE COMPUTED USING LIMIT.\n",
      "2023-11-29:11:57:40,541 INFO     [__main__.py:143] Including path: ./\n",
      "2023-11-29:11:57:40,558 INFO     [__main__.py:205] Selected Tasks: ['demo_mmlu_high_school_geography']\n",
      "2023-11-29:11:57:40,559 WARNING  [evaluator.py:93] generation_kwargs specified through cli, these settings will be used over set parameters in yaml tasks.\n",
      "2023-11-29:11:57:40,589 INFO     [huggingface.py:120] Using device 'cuda'\n",
      "Downloading builder script: 100% 5.84k/5.84k [00:00<00:00, 17.7MB/s]\n",
      "Downloading metadata: 100% 106k/106k [00:00<00:00, 892kB/s] \n",
      "Downloading readme: 100% 39.7k/39.7k [00:00<00:00, 631kB/s]\n",
      "Downloading data: 100% 166M/166M [00:01<00:00, 89.0MB/s]\n",
      "Generating auxiliary_train split: 100% 99842/99842 [00:07<00:00, 12536.83 examples/s]\n",
      "Generating test split: 100% 198/198 [00:00<00:00, 1439.20 examples/s]\n",
      "Generating validation split: 100% 22/22 [00:00<00:00, 4181.76 examples/s]\n",
      "Generating dev split: 100% 5/5 [00:00<00:00, 36.25 examples/s]\n",
      "2023-11-29:11:58:09,798 INFO     [task.py:355] Building contexts for task on rank 0...\n",
      "2023-11-29:11:58:09,822 INFO     [evaluator.py:319] Running loglikelihood requests\n",
      "100% 40/40 [00:05<00:00,  7.86it/s]\n",
      "fatal: not a git repository (or any of the parent directories): .git\n",
      "hf (pretrained=EleutherAI/pythia-2.8b), gen_kwargs: (), limit: 10.0, num_fewshot: None, batch_size: 1\n",
      "|             Tasks             |Version|Filter|n-shot| Metric |Value|   |Stderr|\n",
      "|-------------------------------|-------|------|-----:|--------|----:|---|-----:|\n",
      "|demo_mmlu_high_school_geography|Yaml   |none  |     0|acc     |  0.3|±  |0.1528|\n",
      "|                               |       |none  |     0|acc_norm|  0.3|±  |0.1528|\n",
      "\n"
     ]
    }
   ],
   "source": [
    "# !accelerate launch --no_python\n",
    "!lm_eval \\\n",
    "    --model hf \\\n",
    "    --model_args pretrained=EleutherAI/pythia-2.8b \\\n",
    "    --include_path ./ \\\n",
    "    --tasks demo_mmlu_high_school_geography \\\n",
    "    --limit 10 \\\n",
    "    --output output/mmlu_high_school_geography/ \\\n",
    "    --log_samples"
   ]
  },
  {
   "cell_type": "markdown",
   "metadata": {
    "id": "jyKOfCsKb-xy"
   },
   "source": [
    "We could also evaluate this task in a different way. For example, instead of observing the loglikelihood of the letters, we can instead evaluate on the choices themselves as the continuation. This is done by simply changing `doc_to_choice` from a list of letters to the corresponding `choices` field from the HF dataset. We write `\"{{choices}}\"` so that the string field is interpreted as jinja string that acquires the list from the HF dataset directly.\n",
    "\n",
    "Another convenient feature here is since we're only modifying the `doc_to_choice` and the rest of config is the same as the task above, we can use the above configuration as a template by using `include: mmlu_high_school_geography.yaml` to load the config from that file. We'll need to add a unique task name as to not colide with the existing yaml config we're including. For this case we'll simply name this one `mmlu_high_school_geography_continuation`. `doc_to_text` is added here just for sake of clarity."
   ]
  },
  {
   "cell_type": "code",
   "execution_count": 9,
   "metadata": {
    "id": "lqElwU54TaK-"
   },
   "outputs": [],
   "source": [
    "YAML_mmlu_geo_string = \"\"\"\n",
    "include: mmlu_high_school_geography.yaml\n",
    "task: demo_mmlu_high_school_geography_continuation\n",
    "doc_to_text: \"{{question.strip()}}\\nA. {{choices[0]}}\\nB. {{choices[1]}}\\nC. {{choices[2]}}\\nD. {{choices[3]}}\\nAnswer:\"\n",
    "doc_to_choice: \"{{choices}}\"\n",
    "\"\"\"\n",
    "with open(\"mmlu_high_school_geography_continuation.yaml\", \"w\") as f:\n",
    "    f.write(YAML_mmlu_geo_string)"
   ]
  },
  {
   "cell_type": "code",
   "execution_count": 10,
   "metadata": {
    "id": "-_CVnDirdy7j"
   },
   "outputs": [
    {
     "name": "stdout",
     "output_type": "stream",
     "text": [
      "2023-11-29:11:58:21,284 INFO     [utils.py:160] NumExpr defaulting to 2 threads.\n",
      "2023-11-29 11:58:22.850159: E tensorflow/compiler/xla/stream_executor/cuda/cuda_dnn.cc:9342] Unable to register cuDNN factory: Attempting to register factory for plugin cuDNN when one has already been registered\n",
      "2023-11-29 11:58:22.850219: E tensorflow/compiler/xla/stream_executor/cuda/cuda_fft.cc:609] Unable to register cuFFT factory: Attempting to register factory for plugin cuFFT when one has already been registered\n",
      "2023-11-29 11:58:22.850254: E tensorflow/compiler/xla/stream_executor/cuda/cuda_blas.cc:1518] Unable to register cuBLAS factory: Attempting to register factory for plugin cuBLAS when one has already been registered\n",
      "2023-11-29 11:58:24.948103: W tensorflow/compiler/tf2tensorrt/utils/py_utils.cc:38] TF-TRT Warning: Could not find TensorRT\n",
      "2023-11-29:11:58:28,460 INFO     [__main__.py:132] Verbosity set to INFO\n",
      "2023-11-29:11:58:37,935 WARNING  [__main__.py:138]  --limit SHOULD ONLY BE USED FOR TESTING.REAL METRICS SHOULD NOT BE COMPUTED USING LIMIT.\n",
      "2023-11-29:11:58:37,935 INFO     [__main__.py:143] Including path: ./\n",
      "2023-11-29:11:58:37,969 INFO     [__main__.py:205] Selected Tasks: ['demo_mmlu_high_school_geography_continuation']\n",
      "2023-11-29:11:58:37,972 WARNING  [evaluator.py:93] generation_kwargs specified through cli, these settings will be used over set parameters in yaml tasks.\n",
      "2023-11-29:11:58:38,008 INFO     [huggingface.py:120] Using device 'cuda'\n",
      "2023-11-29:11:58:59,758 INFO     [task.py:355] Building contexts for task on rank 0...\n",
      "2023-11-29:11:58:59,777 INFO     [evaluator.py:319] Running loglikelihood requests\n",
      "100% 40/40 [00:02<00:00, 16.23it/s]\n",
      "fatal: not a git repository (or any of the parent directories): .git\n",
      "hf (pretrained=EleutherAI/pythia-2.8b), gen_kwargs: (), limit: 10.0, num_fewshot: None, batch_size: 1\n",
      "|                   Tasks                    |Version|Filter|n-shot| Metric |Value|   |Stderr|\n",
      "|--------------------------------------------|-------|------|-----:|--------|----:|---|-----:|\n",
      "|demo_mmlu_high_school_geography_continuation|Yaml   |none  |     0|acc     |  0.1|±  |0.1000|\n",
      "|                                            |       |none  |     0|acc_norm|  0.2|±  |0.1333|\n",
      "\n"
     ]
    }
   ],
   "source": [
    "# !accelerate launch --no_python\n",
    "!lm_eval \\\n",
    "    --model hf \\\n",
    "    --model_args pretrained=EleutherAI/pythia-2.8b \\\n",
    "    --include_path ./ \\\n",
    "    --tasks demo_mmlu_high_school_geography_continuation \\\n",
    "    --limit 10 \\\n",
    "    --output output/mmlu_high_school_geography_continuation/ \\\n",
    "    --log_samples"
   ]
  },
  {
   "cell_type": "markdown",
   "metadata": {
    "id": "-_CVnDirdy7j"
   },
   "source": [
    "If we take a look at the samples, we can see that it is in fact evaluating the continuation based on the choices rather than the letters."
   ]
  },
  {
   "cell_type": "code",
   "execution_count": 11,
   "metadata": {
    "id": "duBDqC6PAdjL"
   },
   "outputs": [
    {
     "data": {
      "application/javascript": "\n      ((filepath) => {{\n        if (!google.colab.kernel.accessAllowed) {{\n          return;\n        }}\n        google.colab.files.view(filepath);\n      }})(\"/content/output/mmlu_high_school_geography_continuation/pretrained__EleutherAI__pythia-2.8b_demo_mmlu_high_school_geography_continuation.jsonl\")",
      "text/plain": [
       "<IPython.core.display.Javascript object>"
      ]
     },
     "metadata": {},
     "output_type": "display_data"
    }
   ],
   "source": [
    "from google.colab import files\n",
    "\n",
    "\n",
    "files.view(\n",
    "    \"output/mmlu_high_school_geography_continuation/pretrained__EleutherAI__pythia-2.8b_demo_mmlu_high_school_geography_continuation.jsonl\"\n",
    ")"
   ]
  },
  {
   "cell_type": "markdown",
   "metadata": {
    "id": "6p0-KPwAgK5j"
   },
   "source": [
    "## Closer Look at YAML Fields\n",
    "\n",
    "To prepare a task we can simply fill in a YAML config with the relevant information.\n",
    "\n",
    "`output_type`\n",
    "The current provided evaluation types comprise of the following:\n",
    "1.   `loglikelihood`: Evaluates the loglikelihood of a continuation, conditioned on some input string.\n",
    "2.   `loglikelihood_rolling`: evaluate the loglikelihood of producing a string, conditioned on the empty string. (Used for perplexity evaluations)\n",
    "3.   `multiple_choice`: Evaluates loglikelihood among the a number of choices predicted by the model.\n",
    "4.   `greedy_until`: Model outputs greedy generation (can be configured to to use beam search and other generation-related parameters)\n",
    "\n",
    "The core prompt revolves around 3 fields.\n",
    "1. `doc_to_text`: Denotes the prompt template that will be used as input to the model.\n",
    "2. `doc_to_choice`: Available choices that will be used as continuation for the model. This is used when the `output_type` is `multiple_choice`, and otherwise can be left as `None`.\n",
    "3. `doc_to_target`: When `output_type` is `multiple_choice`, this can be an index that corresponds to the correct answer, or the answer string itself (must be a subset of `doc_to_choice`). For other tasks, this is expected to be a string. You can fill this field with a feature name from the HF dataset so long as the resulting feature follows the conditioned described.\n",
    "\n",
    "These three fields can be expressed as strings, column names from the source dataset, or as Jinja2 templates that can use fields from the source dataset as variables.\n"
   ]
  },
  {
   "cell_type": "markdown",
   "metadata": {
    "id": "6p0-KPwAgK5j"
   },
   "source": [
    "## What if Jinja is not Sufficient?\n",
    "\n",
    "There can be times where the Jinja2 templating language is not enough to make the prompt we had in mind. There are a few ways to circumvent this limitation:\n",
    "\n",
    "1. Use `!function` operator for the prompt-related fields to pass a python function that takes as input the dataset row, and will output the prompt template component.\n",
    "2. Perform a transformation on the dataset beforehand."
   ]
  },
  {
   "cell_type": "markdown",
   "metadata": {},
   "source": [
    "Below, we show an example of using `!function` to create `doc_to_text` from a python function:"
   ]
  },
  {
   "cell_type": "code",
   "execution_count": 12,
   "metadata": {
    "colab": {
     "base_uri": "https://localhost:8080/"
    },
    "id": "DYZ5c0JhR1lJ",
    "outputId": "ca945235-fb9e-4f17-8bfa-78e7d6ec1490"
   },
   "outputs": [
    {
     "name": "stdout",
     "output_type": "stream",
     "text": [
      "2023-11-29:11:59:08,312 INFO     [utils.py:160] NumExpr defaulting to 2 threads.\n",
      "2023-11-29 11:59:09.348327: E tensorflow/compiler/xla/stream_executor/cuda/cuda_dnn.cc:9342] Unable to register cuDNN factory: Attempting to register factory for plugin cuDNN when one has already been registered\n",
      "2023-11-29 11:59:09.348387: E tensorflow/compiler/xla/stream_executor/cuda/cuda_fft.cc:609] Unable to register cuFFT factory: Attempting to register factory for plugin cuFFT when one has already been registered\n",
      "2023-11-29 11:59:09.348421: E tensorflow/compiler/xla/stream_executor/cuda/cuda_blas.cc:1518] Unable to register cuBLAS factory: Attempting to register factory for plugin cuBLAS when one has already been registered\n",
      "2023-11-29 11:59:10.573752: W tensorflow/compiler/tf2tensorrt/utils/py_utils.cc:38] TF-TRT Warning: Could not find TensorRT\n",
      "2023-11-29:11:59:14,044 INFO     [__main__.py:132] Verbosity set to INFO\n",
      "2023-11-29:11:59:23,654 WARNING  [__main__.py:138]  --limit SHOULD ONLY BE USED FOR TESTING.REAL METRICS SHOULD NOT BE COMPUTED USING LIMIT.\n",
      "2023-11-29:11:59:23,654 INFO     [__main__.py:143] Including path: ./\n",
      "2023-11-29:11:59:23,678 INFO     [__main__.py:205] Selected Tasks: ['demo_mmlu_high_school_geography_function_prompt']\n",
      "2023-11-29:11:59:23,679 WARNING  [evaluator.py:93] generation_kwargs specified through cli, these settings will be used over set parameters in yaml tasks.\n",
      "2023-11-29:11:59:23,708 INFO     [huggingface.py:120] Using device 'cuda'\n",
      "2023-11-29:11:59:44,516 INFO     [task.py:355] Building contexts for task on rank 0...\n",
      "2023-11-29:11:59:44,524 INFO     [evaluator.py:319] Running loglikelihood requests\n",
      "100% 40/40 [00:02<00:00, 15.41it/s]\n",
      "fatal: not a git repository (or any of the parent directories): .git\n",
      "hf (pretrained=EleutherAI/pythia-2.8b), gen_kwargs: (), limit: 10.0, num_fewshot: None, batch_size: 1\n",
      "|                     Tasks                     |Version|Filter|n-shot| Metric |Value|   |Stderr|\n",
      "|-----------------------------------------------|-------|------|-----:|--------|----:|---|-----:|\n",
      "|demo_mmlu_high_school_geography_function_prompt|Yaml   |none  |     0|acc     |  0.1|±  |0.1000|\n",
      "|                                               |       |none  |     0|acc_norm|  0.2|±  |0.1333|\n",
      "\n"
     ]
    }
   ],
   "source": [
    "YAML_mmlu_geo_string = \"\"\"\n",
    "include: mmlu_high_school_geography.yaml\n",
    "task: demo_mmlu_high_school_geography_function_prompt\n",
    "doc_to_text: !function utils.doc_to_text\n",
    "doc_to_choice: \"{{choices}}\"\n",
    "\"\"\"\n",
    "with open(\"demo_mmlu_high_school_geography_function_prompt.yaml\", \"w\") as f:\n",
    "    f.write(YAML_mmlu_geo_string)\n",
    "\n",
    "DOC_TO_TEXT = \"\"\"\n",
    "def doc_to_text(x):\n",
    "    question = x[\"question\"].strip()\n",
    "    choices = x[\"choices\"]\n",
    "    option_a = choices[0]\n",
    "    option_b = choices[1]\n",
    "    option_c = choices[2]\n",
    "    option_d = choices[3]\n",
    "    return f\"{question}\\\\nA. {option_a}\\\\nB. {option_b}\\\\nC. {option_c}\\\\nD. {option_d}\\\\nAnswer:\"\n",
    "\"\"\"\n",
    "with open(\"utils.py\", \"w\") as f:\n",
    "    f.write(DOC_TO_TEXT)\n",
    "\n",
    "!lm_eval \\\n",
    "    --model hf \\\n",
    "    --model_args pretrained=EleutherAI/pythia-2.8b \\\n",
    "    --include_path ./ \\\n",
    "    --tasks demo_mmlu_high_school_geography_function_prompt \\\n",
    "    --limit 10 \\\n",
    "    --output output/demo_mmlu_high_school_geography_function_prompt/ \\\n",
    "    --log_samples"
   ]
  },
  {
   "cell_type": "markdown",
   "metadata": {},
   "source": [
    "Next, we'll also show how to do this via preprocessing the dataset as necessary using the `process_docs` config field:\n",
    "\n",
    "We will write a function that will modify each document in our evaluation dataset's split to add a field that is suitable for us to use in `doc_to_text`."
   ]
  },
  {
   "cell_type": "code",
   "execution_count": null,
   "metadata": {},
   "outputs": [],
   "source": [
    "YAML_mmlu_geo_string = \"\"\"\n",
    "include: mmlu_high_school_geography.yaml\n",
    "task: demo_mmlu_high_school_geography_function_prompt_2\n",
    "process_docs: !function utils_process_docs.process_docs\n",
    "doc_to_text: \"{{input}}\"\n",
    "doc_to_choice: \"{{choices}}\"\n",
    "\"\"\"\n",
    "with open(\"demo_mmlu_high_school_geography_process_docs.yaml\", \"w\") as f:\n",
    "    f.write(YAML_mmlu_geo_string)\n",
    "\n",
    "DOC_TO_TEXT = \"\"\"\n",
    "def process_docs(dataset):\n",
    "    def _process_doc(x):\n",
    "        question = x[\"question\"].strip()\n",
    "        choices = x[\"choices\"]\n",
    "        option_a = choices[0]\n",
    "        option_b = choices[1]\n",
    "        option_c = choices[2]\n",
    "        option_d = choices[3]\n",
    "        doc[\"input\"] = f\"{question}\\\\nA. {option_a}\\\\nB. {option_b}\\\\nC. {option_c}\\\\nD. {option_d}\\\\nAnswer:\"\n",
    "        return out_doc\n",
    "\n",
    "    return dataset.map(_process_doc)\n",
    "\"\"\"\n",
    "\n",
    "with open(\"utils_process_docs.py\", \"w\") as f:\n",
    "    f.write(DOC_TO_TEXT)\n",
    "\n",
    "!lm_eval \\\n",
    "    --model hf \\\n",
    "    --model_args pretrained=EleutherAI/pythia-2.8b \\\n",
    "    --include_path ./ \\\n",
    "    --tasks demo_mmlu_high_school_geography_function_prompt_2 \\\n",
    "    --limit 10 \\\n",
    "    --output output/demo_mmlu_high_school_geography_function_prompt_2/ \\\n",
    "    --log_samples"
   ]
  },
  {
   "cell_type": "markdown",
   "metadata": {},
   "source": [
    "We hope that this explainer gives you a sense of what can be done with and how to work with LM-Evaluation-Harnes v0.4.0 ! \n",
    "\n",
    "For more information, check out our documentation pages in the `docs/` folder, and if you have questions, please raise them in GitHub issues, or in #lm-thunderdome or #release-discussion on the EleutherAI discord server."
   ]
  }
 ],
 "metadata": {
  "accelerator": "GPU",
  "colab": {
   "collapsed_sections": [
    "zAov81vTbL2K"
   ],
   "gpuType": "T4",
   "provenance": []
  },
  "kernelspec": {
   "display_name": "leaderboard2",
   "language": "python",
   "name": "python3"
  },
  "language_info": {
   "codemirror_mode": {
    "name": "ipython",
    "version": 3
   },
   "file_extension": ".py",
   "mimetype": "text/x-python",
   "name": "python",
   "nbconvert_exporter": "python",
   "pygments_lexer": "ipython3",
   "version": "3.10.15"
  },
  "widgets": {
   "application/vnd.jupyter.widget-state+json": {
    "46f521b73fd943c081c648fd873ebc0a": {
     "model_module": "@jupyter-widgets/controls",
     "model_module_version": "1.5.0",
     "model_name": "DescriptionStyleModel",
     "state": {
      "_model_module": "@jupyter-widgets/controls",
      "_model_module_version": "1.5.0",
      "_model_name": "DescriptionStyleModel",
      "_view_count": null,
      "_view_module": "@jupyter-widgets/base",
      "_view_module_version": "1.2.0",
      "_view_name": "StyleView",
      "description_width": ""
     }
    },
    "48763b6233374554ae76035c0483066f": {
     "model_module": "@jupyter-widgets/controls",
     "model_module_version": "1.5.0",
     "model_name": "ProgressStyleModel",
     "state": {
      "_model_module": "@jupyter-widgets/controls",
      "_model_module_version": "1.5.0",
      "_model_name": "ProgressStyleModel",
      "_view_count": null,
      "_view_module": "@jupyter-widgets/base",
      "_view_module_version": "1.2.0",
      "_view_name": "StyleView",
      "bar_color": null,
      "description_width": ""
     }
    },
    "4986a21eb560448fa79f4b25cde48951": {
     "model_module": "@jupyter-widgets/base",
     "model_module_version": "1.2.0",
     "model_name": "LayoutModel",
     "state": {
      "_model_module": "@jupyter-widgets/base",
      "_model_module_version": "1.2.0",
      "_model_name": "LayoutModel",
      "_view_count": null,
      "_view_module": "@jupyter-widgets/base",
      "_view_module_version": "1.2.0",
      "_view_name": "LayoutView",
      "align_content": null,
      "align_items": null,
      "align_self": null,
      "border": null,
      "bottom": null,
      "display": null,
      "flex": null,
      "flex_flow": null,
      "grid_area": null,
      "grid_auto_columns": null,
      "grid_auto_flow": null,
      "grid_auto_rows": null,
      "grid_column": null,
      "grid_gap": null,
      "grid_row": null,
      "grid_template_areas": null,
      "grid_template_columns": null,
      "grid_template_rows": null,
      "height": null,
      "justify_content": null,
      "justify_items": null,
      "left": null,
      "margin": null,
      "max_height": null,
      "max_width": null,
      "min_height": null,
      "min_width": null,
      "object_fit": null,
      "object_position": null,
      "order": null,
      "overflow": null,
      "overflow_x": null,
      "overflow_y": null,
      "padding": null,
      "right": null,
      "top": null,
      "visibility": null,
      "width": null
     }
    },
    "6b2d90209ec14230b3d58a74ac9b83bf": {
     "model_module": "@jupyter-widgets/base",
     "model_module_version": "1.2.0",
     "model_name": "LayoutModel",
     "state": {
      "_model_module": "@jupyter-widgets/base",
      "_model_module_version": "1.2.0",
      "_model_name": "LayoutModel",
      "_view_count": null,
      "_view_module": "@jupyter-widgets/base",
      "_view_module_version": "1.2.0",
      "_view_name": "LayoutView",
      "align_content": null,
      "align_items": null,
      "align_self": null,
      "border": null,
      "bottom": null,
      "display": null,
      "flex": null,
      "flex_flow": null,
      "grid_area": null,
      "grid_auto_columns": null,
      "grid_auto_flow": null,
      "grid_auto_rows": null,
      "grid_column": null,
      "grid_gap": null,
      "grid_row": null,
      "grid_template_areas": null,
      "grid_template_columns": null,
      "grid_template_rows": null,
      "height": null,
      "justify_content": null,
      "justify_items": null,
      "left": null,
      "margin": null,
      "max_height": null,
      "max_width": null,
      "min_height": null,
      "min_width": null,
      "object_fit": null,
      "object_position": null,
      "order": null,
      "overflow": null,
      "overflow_x": null,
      "overflow_y": null,
      "padding": null,
      "right": null,
      "top": null,
      "visibility": null,
      "width": null
     }
    },
    "7c5689bc13684db8a22681f41863dddd": {
     "model_module": "@jupyter-widgets/base",
     "model_module_version": "1.2.0",
     "model_name": "LayoutModel",
     "state": {
      "_model_module": "@jupyter-widgets/base",
      "_model_module_version": "1.2.0",
      "_model_name": "LayoutModel",
      "_view_count": null,
      "_view_module": "@jupyter-widgets/base",
      "_view_module_version": "1.2.0",
      "_view_name": "LayoutView",
      "align_content": null,
      "align_items": null,
      "align_self": null,
      "border": null,
      "bottom": null,
      "display": null,
      "flex": null,
      "flex_flow": null,
      "grid_area": null,
      "grid_auto_columns": null,
      "grid_auto_flow": null,
      "grid_auto_rows": null,
      "grid_column": null,
      "grid_gap": null,
      "grid_row": null,
      "grid_template_areas": null,
      "grid_template_columns": null,
      "grid_template_rows": null,
      "height": null,
      "justify_content": null,
      "justify_items": null,
      "left": null,
      "margin": null,
      "max_height": null,
      "max_width": null,
      "min_height": null,
      "min_width": null,
      "object_fit": null,
      "object_position": null,
      "order": null,
      "overflow": null,
      "overflow_x": null,
      "overflow_y": null,
      "padding": null,
      "right": null,
      "top": null,
      "visibility": null,
      "width": null
     }
    },
    "a1d3a8aa016544a78e8821c8f6199e06": {
     "model_module": "@jupyter-widgets/controls",
     "model_module_version": "1.5.0",
     "model_name": "HBoxModel",
     "state": {
      "_dom_classes": [],
      "_model_module": "@jupyter-widgets/controls",
      "_model_module_version": "1.5.0",
      "_model_name": "HBoxModel",
      "_view_count": null,
      "_view_module": "@jupyter-widgets/controls",
      "_view_module_version": "1.5.0",
      "_view_name": "HBoxView",
      "box_style": "",
      "children": [
       "IPY_MODEL_f61ed33fad754146bdd2ac9db1ba1c48",
       "IPY_MODEL_bfa0af6aeff344c6845e1080a878e92e",
       "IPY_MODEL_fd1ad9e0367d4004aae853b91c3a7617"
      ],
      "layout": "IPY_MODEL_6b2d90209ec14230b3d58a74ac9b83bf"
     }
    },
    "a73f357065d34d7baf0453ae4a8d75e2": {
     "model_module": "@jupyter-widgets/base",
     "model_module_version": "1.2.0",
     "model_name": "LayoutModel",
     "state": {
      "_model_module": "@jupyter-widgets/base",
      "_model_module_version": "1.2.0",
      "_model_name": "LayoutModel",
      "_view_count": null,
      "_view_module": "@jupyter-widgets/base",
      "_view_module_version": "1.2.0",
      "_view_name": "LayoutView",
      "align_content": null,
      "align_items": null,
      "align_self": null,
      "border": null,
      "bottom": null,
      "display": null,
      "flex": null,
      "flex_flow": null,
      "grid_area": null,
      "grid_auto_columns": null,
      "grid_auto_flow": null,
      "grid_auto_rows": null,
      "grid_column": null,
      "grid_gap": null,
      "grid_row": null,
      "grid_template_areas": null,
      "grid_template_columns": null,
      "grid_template_rows": null,
      "height": null,
      "justify_content": null,
      "justify_items": null,
      "left": null,
      "margin": null,
      "max_height": null,
      "max_width": null,
      "min_height": null,
      "min_width": null,
      "object_fit": null,
      "object_position": null,
      "order": null,
      "overflow": null,
      "overflow_x": null,
      "overflow_y": null,
      "padding": null,
      "right": null,
      "top": null,
      "visibility": null,
      "width": null
     }
    },
    "aed3acd2f2d74003b44079c333a0698e": {
     "model_module": "@jupyter-widgets/controls",
     "model_module_version": "1.5.0",
     "model_name": "DescriptionStyleModel",
     "state": {
      "_model_module": "@jupyter-widgets/controls",
      "_model_module_version": "1.5.0",
      "_model_name": "DescriptionStyleModel",
      "_view_count": null,
      "_view_module": "@jupyter-widgets/base",
      "_view_module_version": "1.2.0",
      "_view_name": "StyleView",
      "description_width": ""
     }
    },
    "bfa0af6aeff344c6845e1080a878e92e": {
     "model_module": "@jupyter-widgets/controls",
     "model_module_version": "1.5.0",
     "model_name": "FloatProgressModel",
     "state": {
      "_dom_classes": [],
      "_model_module": "@jupyter-widgets/controls",
      "_model_module_version": "1.5.0",
      "_model_name": "FloatProgressModel",
      "_view_count": null,
      "_view_module": "@jupyter-widgets/controls",
      "_view_module_version": "1.5.0",
      "_view_name": "ProgressView",
      "bar_style": "success",
      "description": "",
      "description_tooltip": null,
      "layout": "IPY_MODEL_7c5689bc13684db8a22681f41863dddd",
      "max": 5669,
      "min": 0,
      "orientation": "horizontal",
      "style": "IPY_MODEL_48763b6233374554ae76035c0483066f",
      "value": 5669
     }
    },
    "f61ed33fad754146bdd2ac9db1ba1c48": {
     "model_module": "@jupyter-widgets/controls",
     "model_module_version": "1.5.0",
     "model_name": "HTMLModel",
     "state": {
      "_dom_classes": [],
      "_model_module": "@jupyter-widgets/controls",
      "_model_module_version": "1.5.0",
      "_model_name": "HTMLModel",
      "_view_count": null,
      "_view_module": "@jupyter-widgets/controls",
      "_view_module_version": "1.5.0",
      "_view_name": "HTMLView",
      "description": "",
      "description_tooltip": null,
      "layout": "IPY_MODEL_a73f357065d34d7baf0453ae4a8d75e2",
      "placeholder": "​",
      "style": "IPY_MODEL_46f521b73fd943c081c648fd873ebc0a",
      "value": "Downloading builder script: 100%"
     }
    },
    "fd1ad9e0367d4004aae853b91c3a7617": {
     "model_module": "@jupyter-widgets/controls",
     "model_module_version": "1.5.0",
     "model_name": "HTMLModel",
     "state": {
      "_dom_classes": [],
      "_model_module": "@jupyter-widgets/controls",
      "_model_module_version": "1.5.0",
      "_model_name": "HTMLModel",
      "_view_count": null,
      "_view_module": "@jupyter-widgets/controls",
      "_view_module_version": "1.5.0",
      "_view_name": "HTMLView",
      "description": "",
      "description_tooltip": null,
      "layout": "IPY_MODEL_4986a21eb560448fa79f4b25cde48951",
      "placeholder": "​",
      "style": "IPY_MODEL_aed3acd2f2d74003b44079c333a0698e",
      "value": " 5.67k/5.67k [00:00&lt;00:00, 205kB/s]"
     }
    }
   }
  }
 },
 "nbformat": 4,
 "nbformat_minor": 0
}
